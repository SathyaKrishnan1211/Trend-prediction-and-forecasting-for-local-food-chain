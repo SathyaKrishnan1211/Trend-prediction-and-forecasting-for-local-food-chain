{
 "cells": [
  {
   "cell_type": "code",
   "execution_count": 1,
   "id": "6cb1ed89",
   "metadata": {},
   "outputs": [],
   "source": [
    "import pandas as pd\n",
    "import numpy as np"
   ]
  },
  {
   "cell_type": "code",
   "execution_count": 2,
   "id": "8f5f5fc1",
   "metadata": {},
   "outputs": [],
   "source": [
    "df = pd.read_csv('DATA/Bakery Sales.csv')"
   ]
  },
  {
   "cell_type": "code",
   "execution_count": 3,
   "id": "fd70104f",
   "metadata": {},
   "outputs": [],
   "source": [
    "df = df.drop('place',axis=1)"
   ]
  },
  {
   "cell_type": "code",
   "execution_count": 31,
   "id": "68184b87",
   "metadata": {},
   "outputs": [],
   "source": [
    "df = df.dropna(subset=['datetime','day of week'])"
   ]
  },
  {
   "cell_type": "code",
   "execution_count": 33,
   "id": "71874f8c",
   "metadata": {},
   "outputs": [],
   "source": [
    "df = df.fillna(0)"
   ]
  },
  {
   "cell_type": "code",
   "execution_count": 34,
   "id": "7bc25d58",
   "metadata": {},
   "outputs": [
    {
     "data": {
      "text/plain": [
       "datetime              0\n",
       "day of week           0\n",
       "total                 0\n",
       "angbutter             0\n",
       "plain bread           0\n",
       "jam                   0\n",
       "americano             0\n",
       "croissant             0\n",
       "caffe latte           0\n",
       "tiramisu croissant    0\n",
       "cacao deep            0\n",
       "pain au chocolat      0\n",
       "almond croissant      0\n",
       "croque monsieur       0\n",
       "mad garlic            0\n",
       "milk tea              0\n",
       "gateau chocolat       0\n",
       "pandoro               0\n",
       "cheese cake           0\n",
       "lemon ade             0\n",
       "orange pound          0\n",
       "wiener                0\n",
       "vanila latte          0\n",
       "berry ade             0\n",
       "tiramisu              0\n",
       "merinque cookies      0\n",
       "dtype: int64"
      ]
     },
     "execution_count": 34,
     "metadata": {},
     "output_type": "execute_result"
    }
   ],
   "source": [
    "df.isnull().sum()"
   ]
  },
  {
   "cell_type": "markdown",
   "id": "90c3898e",
   "metadata": {},
   "source": [
    "## DATA PREPROCESSING"
   ]
  },
  {
   "cell_type": "code",
   "execution_count": 35,
   "id": "fd83895c",
   "metadata": {},
   "outputs": [
    {
     "data": {
      "text/plain": [
       "0       2019-07-11 15:35\n",
       "1       2019-07-11 16:10\n",
       "2       2019-07-12 11:49\n",
       "3       2019-07-13 13:19\n",
       "4       2019-07-13 13:22\n",
       "              ...       \n",
       "2415    2020-05-02 11:37\n",
       "2416    2020-05-02 11:39\n",
       "2417    2020-05-02 12:15\n",
       "2418    2020-05-02 13:45\n",
       "2419    2020-05-02 14:45\n",
       "Name: datetime, Length: 2420, dtype: object"
      ]
     },
     "execution_count": 35,
     "metadata": {},
     "output_type": "execute_result"
    }
   ],
   "source": [
    "df['datetime']"
   ]
  },
  {
   "cell_type": "code",
   "execution_count": 55,
   "id": "969ec387",
   "metadata": {},
   "outputs": [
    {
     "data": {
      "text/plain": [
       "'15'"
      ]
     },
     "execution_count": 55,
     "metadata": {},
     "output_type": "execute_result"
    }
   ],
   "source": [
    "df['datetime'].str.split('-')[0][2].split(':')[0].split()[1]"
   ]
  },
  {
   "cell_type": "code",
   "execution_count": 57,
   "id": "9b1a8d39",
   "metadata": {},
   "outputs": [
    {
     "data": {
      "text/plain": [
       "11    706\n",
       "12    552\n",
       "13    446\n",
       "14    343\n",
       "15    219\n",
       "16    125\n",
       "17     27\n",
       "22      1\n",
       "23      1\n",
       "Name: hour, dtype: int64"
      ]
     },
     "execution_count": 57,
     "metadata": {},
     "output_type": "execute_result"
    }
   ],
   "source": [
    "def hour(x):\n",
    "    return x.split('-')[2].split(':')[0].split()[1]\n",
    "df['hour'] = df['datetime'].apply(lambda x:hour(x))\n",
    "df['hour'].value_counts()"
   ]
  },
  {
   "cell_type": "code",
   "execution_count": 50,
   "id": "698236dc",
   "metadata": {},
   "outputs": [
    {
     "data": {
      "text/plain": [
       "2019    1331\n",
       "2020    1089\n",
       "Name: year, dtype: int64"
      ]
     },
     "execution_count": 50,
     "metadata": {},
     "output_type": "execute_result"
    }
   ],
   "source": [
    "def year(x):\n",
    "    return x.split('-')[0]\n",
    "df['year'] = df['datetime'].apply(lambda x:year(x))\n",
    "df['year'].value_counts()"
   ]
  },
  {
   "cell_type": "code",
   "execution_count": 52,
   "id": "bba90430",
   "metadata": {},
   "outputs": [
    {
     "data": {
      "text/plain": [
       "03    314\n",
       "02    307\n",
       "08    294\n",
       "12    244\n",
       "04    236\n",
       "09    235\n",
       "11    225\n",
       "01    217\n",
       "10    198\n",
       "07    135\n",
       "05     15\n",
       "Name: month, dtype: int64"
      ]
     },
     "execution_count": 52,
     "metadata": {},
     "output_type": "execute_result"
    }
   ],
   "source": [
    "def month(x):\n",
    "    return x.split('-')[1]\n",
    "df['month'] = df['datetime'].apply(lambda x:month(x))\n",
    "df['month'].value_counts()"
   ]
  },
  {
   "cell_type": "code",
   "execution_count": 60,
   "id": "e50a2b6e",
   "metadata": {},
   "outputs": [
    {
     "data": {
      "text/plain": [
       "Index(['day of week', 'total', 'angbutter', 'plain bread', 'jam', 'americano',\n",
       "       'croissant', 'caffe latte', 'tiramisu croissant', 'cacao deep',\n",
       "       'pain au chocolat', 'almond croissant', 'croque monsieur', 'mad garlic',\n",
       "       'milk tea', 'gateau chocolat', 'pandoro', 'cheese cake', 'lemon ade',\n",
       "       'orange pound', 'wiener', 'vanila latte', 'berry ade', 'tiramisu',\n",
       "       'merinque cookies', 'year', 'month', 'hour'],\n",
       "      dtype='object')"
      ]
     },
     "execution_count": 60,
     "metadata": {},
     "output_type": "execute_result"
    }
   ],
   "source": [
    "df.columns"
   ]
  },
  {
   "cell_type": "code",
   "execution_count": 63,
   "id": "c828b7b1",
   "metadata": {},
   "outputs": [],
   "source": [
    "year_df = df.groupby('year').mean().transpose()"
   ]
  },
  {
   "cell_type": "code",
   "execution_count": 64,
   "id": "18d7edc6",
   "metadata": {},
   "outputs": [],
   "source": [
    "year_df['diff'] = year_df['2020'] - year_df['2019']"
   ]
  },
  {
   "cell_type": "code",
   "execution_count": 66,
   "id": "d241b644",
   "metadata": {},
   "outputs": [
    {
     "data": {
      "text/html": [
       "<div>\n",
       "<style scoped>\n",
       "    .dataframe tbody tr th:only-of-type {\n",
       "        vertical-align: middle;\n",
       "    }\n",
       "\n",
       "    .dataframe tbody tr th {\n",
       "        vertical-align: top;\n",
       "    }\n",
       "\n",
       "    .dataframe thead th {\n",
       "        text-align: right;\n",
       "    }\n",
       "</style>\n",
       "<table border=\"1\" class=\"dataframe\">\n",
       "  <thead>\n",
       "    <tr style=\"text-align: right;\">\n",
       "      <th>year</th>\n",
       "      <th>2019</th>\n",
       "      <th>2020</th>\n",
       "      <th>diff</th>\n",
       "    </tr>\n",
       "  </thead>\n",
       "  <tbody>\n",
       "    <tr>\n",
       "      <th>plain bread</th>\n",
       "      <td>0.384673</td>\n",
       "      <td>0.473829</td>\n",
       "      <td>0.089156</td>\n",
       "    </tr>\n",
       "    <tr>\n",
       "      <th>tiramisu croissant</th>\n",
       "      <td>0.361382</td>\n",
       "      <td>0.426079</td>\n",
       "      <td>0.064697</td>\n",
       "    </tr>\n",
       "    <tr>\n",
       "      <th>cacao deep</th>\n",
       "      <td>0.133734</td>\n",
       "      <td>0.170799</td>\n",
       "      <td>0.037065</td>\n",
       "    </tr>\n",
       "    <tr>\n",
       "      <th>americano</th>\n",
       "      <td>0.198347</td>\n",
       "      <td>0.228650</td>\n",
       "      <td>0.030303</td>\n",
       "    </tr>\n",
       "    <tr>\n",
       "      <th>cheese cake</th>\n",
       "      <td>0.025545</td>\n",
       "      <td>0.053260</td>\n",
       "      <td>0.027715</td>\n",
       "    </tr>\n",
       "    <tr>\n",
       "      <th>orange pound</th>\n",
       "      <td>0.222389</td>\n",
       "      <td>0.247934</td>\n",
       "      <td>0.025545</td>\n",
       "    </tr>\n",
       "    <tr>\n",
       "      <th>vanila latte</th>\n",
       "      <td>0.097671</td>\n",
       "      <td>0.101928</td>\n",
       "      <td>0.004257</td>\n",
       "    </tr>\n",
       "    <tr>\n",
       "      <th>berry ade</th>\n",
       "      <td>0.021037</td>\n",
       "      <td>0.024793</td>\n",
       "      <td>0.003757</td>\n",
       "    </tr>\n",
       "    <tr>\n",
       "      <th>merinque cookies</th>\n",
       "      <td>0.018783</td>\n",
       "      <td>0.022039</td>\n",
       "      <td>0.003256</td>\n",
       "    </tr>\n",
       "    <tr>\n",
       "      <th>pandoro</th>\n",
       "      <td>0.162284</td>\n",
       "      <td>0.163453</td>\n",
       "      <td>0.001169</td>\n",
       "    </tr>\n",
       "    <tr>\n",
       "      <th>croque monsieur</th>\n",
       "      <td>0.000000</td>\n",
       "      <td>0.000000</td>\n",
       "      <td>0.000000</td>\n",
       "    </tr>\n",
       "    <tr>\n",
       "      <th>mad garlic</th>\n",
       "      <td>0.000000</td>\n",
       "      <td>0.000000</td>\n",
       "      <td>0.000000</td>\n",
       "    </tr>\n",
       "    <tr>\n",
       "      <th>lemon ade</th>\n",
       "      <td>0.016529</td>\n",
       "      <td>0.014692</td>\n",
       "      <td>-0.001837</td>\n",
       "    </tr>\n",
       "    <tr>\n",
       "      <th>milk tea</th>\n",
       "      <td>0.067618</td>\n",
       "      <td>0.064279</td>\n",
       "      <td>-0.003339</td>\n",
       "    </tr>\n",
       "    <tr>\n",
       "      <th>tiramisu</th>\n",
       "      <td>0.005259</td>\n",
       "      <td>0.000000</td>\n",
       "      <td>-0.005259</td>\n",
       "    </tr>\n",
       "    <tr>\n",
       "      <th>caffe latte</th>\n",
       "      <td>0.091660</td>\n",
       "      <td>0.084481</td>\n",
       "      <td>-0.007179</td>\n",
       "    </tr>\n",
       "    <tr>\n",
       "      <th>gateau chocolat</th>\n",
       "      <td>0.092412</td>\n",
       "      <td>0.079890</td>\n",
       "      <td>-0.012522</td>\n",
       "    </tr>\n",
       "    <tr>\n",
       "      <th>jam</th>\n",
       "      <td>0.113449</td>\n",
       "      <td>0.089991</td>\n",
       "      <td>-0.023458</td>\n",
       "    </tr>\n",
       "    <tr>\n",
       "      <th>almond croissant</th>\n",
       "      <td>0.109692</td>\n",
       "      <td>0.081726</td>\n",
       "      <td>-0.027966</td>\n",
       "    </tr>\n",
       "    <tr>\n",
       "      <th>angbutter</th>\n",
       "      <td>1.356123</td>\n",
       "      <td>1.307622</td>\n",
       "      <td>-0.048502</td>\n",
       "    </tr>\n",
       "    <tr>\n",
       "      <th>pain au chocolat</th>\n",
       "      <td>0.327573</td>\n",
       "      <td>0.266299</td>\n",
       "      <td>-0.061274</td>\n",
       "    </tr>\n",
       "    <tr>\n",
       "      <th>croissant</th>\n",
       "      <td>0.463561</td>\n",
       "      <td>0.396694</td>\n",
       "      <td>-0.066867</td>\n",
       "    </tr>\n",
       "    <tr>\n",
       "      <th>wiener</th>\n",
       "      <td>0.228400</td>\n",
       "      <td>0.157943</td>\n",
       "      <td>-0.070457</td>\n",
       "    </tr>\n",
       "    <tr>\n",
       "      <th>total</th>\n",
       "      <td>21475.657400</td>\n",
       "      <td>20802.020202</td>\n",
       "      <td>-673.637198</td>\n",
       "    </tr>\n",
       "  </tbody>\n",
       "</table>\n",
       "</div>"
      ],
      "text/plain": [
       "year                        2019          2020        diff\n",
       "plain bread             0.384673      0.473829    0.089156\n",
       "tiramisu croissant      0.361382      0.426079    0.064697\n",
       "cacao deep              0.133734      0.170799    0.037065\n",
       "americano               0.198347      0.228650    0.030303\n",
       "cheese cake             0.025545      0.053260    0.027715\n",
       "orange pound            0.222389      0.247934    0.025545\n",
       "vanila latte            0.097671      0.101928    0.004257\n",
       "berry ade               0.021037      0.024793    0.003757\n",
       "merinque cookies        0.018783      0.022039    0.003256\n",
       "pandoro                 0.162284      0.163453    0.001169\n",
       "croque monsieur         0.000000      0.000000    0.000000\n",
       "mad garlic              0.000000      0.000000    0.000000\n",
       "lemon ade               0.016529      0.014692   -0.001837\n",
       "milk tea                0.067618      0.064279   -0.003339\n",
       "tiramisu                0.005259      0.000000   -0.005259\n",
       "caffe latte             0.091660      0.084481   -0.007179\n",
       "gateau chocolat         0.092412      0.079890   -0.012522\n",
       "jam                     0.113449      0.089991   -0.023458\n",
       "almond croissant        0.109692      0.081726   -0.027966\n",
       "angbutter               1.356123      1.307622   -0.048502\n",
       "pain au chocolat        0.327573      0.266299   -0.061274\n",
       "croissant               0.463561      0.396694   -0.066867\n",
       "wiener                  0.228400      0.157943   -0.070457\n",
       "total               21475.657400  20802.020202 -673.637198"
      ]
     },
     "execution_count": 66,
     "metadata": {},
     "output_type": "execute_result"
    }
   ],
   "source": [
    "year_df.sort_values('diff',ascending=False)"
   ]
  },
  {
   "cell_type": "code",
   "execution_count": 106,
   "id": "99877a67",
   "metadata": {},
   "outputs": [],
   "source": [
    "def day(x):\n",
    "    if x == 'Mon':\n",
    "        return 1\n",
    "    elif x == 'Wed':\n",
    "        return 3\n",
    "    elif x == 'Thur':\n",
    "        return 4\n",
    "    elif x == 'Fri':\n",
    "        return 5\n",
    "    elif x == 'Sat':\n",
    "        return 6\n",
    "    else:\n",
    "        return 0\n",
    "df['day'] = df['day of week'].apply(lambda x:day(x))"
   ]
  },
  {
   "cell_type": "code",
   "execution_count": 108,
   "id": "5182e4e5",
   "metadata": {},
   "outputs": [],
   "source": [
    "df = df.drop('day of week',axis=1)"
   ]
  },
  {
   "cell_type": "markdown",
   "id": "46bae4fc",
   "metadata": {},
   "source": [
    "## OUTLIER DETECTION"
   ]
  },
  {
   "cell_type": "code",
   "execution_count": 83,
   "id": "e7c56fc5",
   "metadata": {},
   "outputs": [
    {
     "data": {
      "image/png": "[encoded data removed]",
      "text/plain": [
       "<Figure size 2400x1600 with 2 Axes>"
      ]
     },
     "metadata": {
      "needs_background": "light"
     },
     "output_type": "display_data"
    }
   ],
   "source": [
    "import seaborn as sns\n",
    "import matplotlib.pyplot as plt\n",
    "corr = df.corr()\n",
    "corr = corr.drop(['mad garlic','croque monsieur'])\n",
    "corr = corr.drop(['croque monsieur','mad garlic'],axis=1)\n",
    "plt.figure(figsize=(12,8),dpi=200)\n",
    "sns.heatmap(corr)\n",
    "plt.savefig('corr.png')"
   ]
  },
  {
   "cell_type": "code",
   "execution_count": 84,
   "id": "ec4452dc",
   "metadata": {},
   "outputs": [
    {
     "data": {
      "text/html": [
       "<div>\n",
       "<style scoped>\n",
       "    .dataframe tbody tr th:only-of-type {\n",
       "        vertical-align: middle;\n",
       "    }\n",
       "\n",
       "    .dataframe tbody tr th {\n",
       "        vertical-align: top;\n",
       "    }\n",
       "\n",
       "    .dataframe thead th {\n",
       "        text-align: right;\n",
       "    }\n",
       "</style>\n",
       "<table border=\"1\" class=\"dataframe\">\n",
       "  <thead>\n",
       "    <tr style=\"text-align: right;\">\n",
       "      <th></th>\n",
       "      <th>total</th>\n",
       "      <th>angbutter</th>\n",
       "      <th>plain bread</th>\n",
       "      <th>jam</th>\n",
       "      <th>americano</th>\n",
       "      <th>croissant</th>\n",
       "      <th>caffe latte</th>\n",
       "      <th>tiramisu croissant</th>\n",
       "      <th>cacao deep</th>\n",
       "      <th>pain au chocolat</th>\n",
       "      <th>...</th>\n",
       "      <th>gateau chocolat</th>\n",
       "      <th>pandoro</th>\n",
       "      <th>cheese cake</th>\n",
       "      <th>lemon ade</th>\n",
       "      <th>orange pound</th>\n",
       "      <th>wiener</th>\n",
       "      <th>vanila latte</th>\n",
       "      <th>berry ade</th>\n",
       "      <th>tiramisu</th>\n",
       "      <th>merinque cookies</th>\n",
       "    </tr>\n",
       "    <tr>\n",
       "      <th>hour</th>\n",
       "      <th></th>\n",
       "      <th></th>\n",
       "      <th></th>\n",
       "      <th></th>\n",
       "      <th></th>\n",
       "      <th></th>\n",
       "      <th></th>\n",
       "      <th></th>\n",
       "      <th></th>\n",
       "      <th></th>\n",
       "      <th></th>\n",
       "      <th></th>\n",
       "      <th></th>\n",
       "      <th></th>\n",
       "      <th></th>\n",
       "      <th></th>\n",
       "      <th></th>\n",
       "      <th></th>\n",
       "      <th></th>\n",
       "      <th></th>\n",
       "      <th></th>\n",
       "    </tr>\n",
       "  </thead>\n",
       "  <tbody>\n",
       "    <tr>\n",
       "      <th>11</th>\n",
       "      <td>23409.773371</td>\n",
       "      <td>1.398017</td>\n",
       "      <td>0.424929</td>\n",
       "      <td>0.089235</td>\n",
       "      <td>0.201133</td>\n",
       "      <td>0.490085</td>\n",
       "      <td>0.072238</td>\n",
       "      <td>0.477337</td>\n",
       "      <td>0.145892</td>\n",
       "      <td>0.364023</td>\n",
       "      <td>...</td>\n",
       "      <td>0.079320</td>\n",
       "      <td>0.199717</td>\n",
       "      <td>0.033994</td>\n",
       "      <td>0.011331</td>\n",
       "      <td>0.223796</td>\n",
       "      <td>0.267705</td>\n",
       "      <td>0.076487</td>\n",
       "      <td>0.014164</td>\n",
       "      <td>0.002833</td>\n",
       "      <td>0.019830</td>\n",
       "    </tr>\n",
       "    <tr>\n",
       "      <th>12</th>\n",
       "      <td>20174.456522</td>\n",
       "      <td>1.248188</td>\n",
       "      <td>0.521739</td>\n",
       "      <td>0.099638</td>\n",
       "      <td>0.188406</td>\n",
       "      <td>0.425725</td>\n",
       "      <td>0.094203</td>\n",
       "      <td>0.353261</td>\n",
       "      <td>0.172101</td>\n",
       "      <td>0.307971</td>\n",
       "      <td>...</td>\n",
       "      <td>0.072464</td>\n",
       "      <td>0.170290</td>\n",
       "      <td>0.038043</td>\n",
       "      <td>0.016304</td>\n",
       "      <td>0.221014</td>\n",
       "      <td>0.173913</td>\n",
       "      <td>0.103261</td>\n",
       "      <td>0.023551</td>\n",
       "      <td>0.005435</td>\n",
       "      <td>0.012681</td>\n",
       "    </tr>\n",
       "    <tr>\n",
       "      <th>13</th>\n",
       "      <td>20493.049327</td>\n",
       "      <td>1.327354</td>\n",
       "      <td>0.405830</td>\n",
       "      <td>0.103139</td>\n",
       "      <td>0.230942</td>\n",
       "      <td>0.441704</td>\n",
       "      <td>0.098655</td>\n",
       "      <td>0.434978</td>\n",
       "      <td>0.121076</td>\n",
       "      <td>0.284753</td>\n",
       "      <td>...</td>\n",
       "      <td>0.069507</td>\n",
       "      <td>0.159193</td>\n",
       "      <td>0.035874</td>\n",
       "      <td>0.017937</td>\n",
       "      <td>0.215247</td>\n",
       "      <td>0.170404</td>\n",
       "      <td>0.091928</td>\n",
       "      <td>0.026906</td>\n",
       "      <td>0.002242</td>\n",
       "      <td>0.013453</td>\n",
       "    </tr>\n",
       "    <tr>\n",
       "      <th>14</th>\n",
       "      <td>20577.259475</td>\n",
       "      <td>1.323615</td>\n",
       "      <td>0.390671</td>\n",
       "      <td>0.128280</td>\n",
       "      <td>0.250729</td>\n",
       "      <td>0.416910</td>\n",
       "      <td>0.122449</td>\n",
       "      <td>0.309038</td>\n",
       "      <td>0.169096</td>\n",
       "      <td>0.288630</td>\n",
       "      <td>...</td>\n",
       "      <td>0.096210</td>\n",
       "      <td>0.142857</td>\n",
       "      <td>0.037901</td>\n",
       "      <td>0.017493</td>\n",
       "      <td>0.259475</td>\n",
       "      <td>0.139942</td>\n",
       "      <td>0.122449</td>\n",
       "      <td>0.037901</td>\n",
       "      <td>0.002915</td>\n",
       "      <td>0.023324</td>\n",
       "    </tr>\n",
       "    <tr>\n",
       "      <th>15</th>\n",
       "      <td>19885.388128</td>\n",
       "      <td>1.429224</td>\n",
       "      <td>0.315068</td>\n",
       "      <td>0.109589</td>\n",
       "      <td>0.196347</td>\n",
       "      <td>0.315068</td>\n",
       "      <td>0.073059</td>\n",
       "      <td>0.347032</td>\n",
       "      <td>0.118721</td>\n",
       "      <td>0.219178</td>\n",
       "      <td>...</td>\n",
       "      <td>0.118721</td>\n",
       "      <td>0.114155</td>\n",
       "      <td>0.027397</td>\n",
       "      <td>0.018265</td>\n",
       "      <td>0.237443</td>\n",
       "      <td>0.196347</td>\n",
       "      <td>0.127854</td>\n",
       "      <td>0.013699</td>\n",
       "      <td>0.000000</td>\n",
       "      <td>0.036530</td>\n",
       "    </tr>\n",
       "    <tr>\n",
       "      <th>16</th>\n",
       "      <td>19859.200000</td>\n",
       "      <td>1.256000</td>\n",
       "      <td>0.384000</td>\n",
       "      <td>0.112000</td>\n",
       "      <td>0.264000</td>\n",
       "      <td>0.424000</td>\n",
       "      <td>0.064000</td>\n",
       "      <td>0.224000</td>\n",
       "      <td>0.184000</td>\n",
       "      <td>0.160000</td>\n",
       "      <td>...</td>\n",
       "      <td>0.144000</td>\n",
       "      <td>0.096000</td>\n",
       "      <td>0.072000</td>\n",
       "      <td>0.016000</td>\n",
       "      <td>0.312000</td>\n",
       "      <td>0.128000</td>\n",
       "      <td>0.136000</td>\n",
       "      <td>0.032000</td>\n",
       "      <td>0.000000</td>\n",
       "      <td>0.048000</td>\n",
       "    </tr>\n",
       "    <tr>\n",
       "      <th>17</th>\n",
       "      <td>18048.148148</td>\n",
       "      <td>1.074074</td>\n",
       "      <td>0.296296</td>\n",
       "      <td>0.111111</td>\n",
       "      <td>0.074074</td>\n",
       "      <td>0.222222</td>\n",
       "      <td>0.037037</td>\n",
       "      <td>0.296296</td>\n",
       "      <td>0.185185</td>\n",
       "      <td>0.185185</td>\n",
       "      <td>...</td>\n",
       "      <td>0.222222</td>\n",
       "      <td>0.074074</td>\n",
       "      <td>0.111111</td>\n",
       "      <td>0.037037</td>\n",
       "      <td>0.333333</td>\n",
       "      <td>0.296296</td>\n",
       "      <td>0.074074</td>\n",
       "      <td>0.000000</td>\n",
       "      <td>0.000000</td>\n",
       "      <td>0.000000</td>\n",
       "    </tr>\n",
       "    <tr>\n",
       "      <th>22</th>\n",
       "      <td>15800.000000</td>\n",
       "      <td>1.000000</td>\n",
       "      <td>0.000000</td>\n",
       "      <td>0.000000</td>\n",
       "      <td>0.000000</td>\n",
       "      <td>0.000000</td>\n",
       "      <td>0.000000</td>\n",
       "      <td>1.000000</td>\n",
       "      <td>0.000000</td>\n",
       "      <td>0.000000</td>\n",
       "      <td>...</td>\n",
       "      <td>0.000000</td>\n",
       "      <td>0.000000</td>\n",
       "      <td>0.000000</td>\n",
       "      <td>0.000000</td>\n",
       "      <td>1.000000</td>\n",
       "      <td>0.000000</td>\n",
       "      <td>0.000000</td>\n",
       "      <td>0.000000</td>\n",
       "      <td>0.000000</td>\n",
       "      <td>0.000000</td>\n",
       "    </tr>\n",
       "    <tr>\n",
       "      <th>23</th>\n",
       "      <td>35600.000000</td>\n",
       "      <td>7.000000</td>\n",
       "      <td>0.000000</td>\n",
       "      <td>0.000000</td>\n",
       "      <td>0.000000</td>\n",
       "      <td>0.000000</td>\n",
       "      <td>0.000000</td>\n",
       "      <td>0.000000</td>\n",
       "      <td>0.000000</td>\n",
       "      <td>0.000000</td>\n",
       "      <td>...</td>\n",
       "      <td>0.000000</td>\n",
       "      <td>0.000000</td>\n",
       "      <td>0.000000</td>\n",
       "      <td>0.000000</td>\n",
       "      <td>0.000000</td>\n",
       "      <td>0.000000</td>\n",
       "      <td>0.000000</td>\n",
       "      <td>0.000000</td>\n",
       "      <td>0.000000</td>\n",
       "      <td>0.000000</td>\n",
       "    </tr>\n",
       "  </tbody>\n",
       "</table>\n",
       "<p>9 rows × 24 columns</p>\n",
       "</div>"
      ],
      "text/plain": [
       "             total  angbutter  plain bread       jam  americano  croissant  \\\n",
       "hour                                                                         \n",
       "11    23409.773371   1.398017     0.424929  0.089235   0.201133   0.490085   \n",
       "12    20174.456522   1.248188     0.521739  0.099638   0.188406   0.425725   \n",
       "13    20493.049327   1.327354     0.405830  0.103139   0.230942   0.441704   \n",
       "14    20577.259475   1.323615     0.390671  0.128280   0.250729   0.416910   \n",
       "15    19885.388128   1.429224     0.315068  0.109589   0.196347   0.315068   \n",
       "16    19859.200000   1.256000     0.384000  0.112000   0.264000   0.424000   \n",
       "17    18048.148148   1.074074     0.296296  0.111111   0.074074   0.222222   \n",
       "22    15800.000000   1.000000     0.000000  0.000000   0.000000   0.000000   \n",
       "23    35600.000000   7.000000     0.000000  0.000000   0.000000   0.000000   \n",
       "\n",
       "      caffe latte  tiramisu croissant  cacao deep  pain au chocolat  ...  \\\n",
       "hour                                                                 ...   \n",
       "11       0.072238            0.477337    0.145892          0.364023  ...   \n",
       "12       0.094203            0.353261    0.172101          0.307971  ...   \n",
       "13       0.098655            0.434978    0.121076          0.284753  ...   \n",
       "14       0.122449            0.309038    0.169096          0.288630  ...   \n",
       "15       0.073059            0.347032    0.118721          0.219178  ...   \n",
       "16       0.064000            0.224000    0.184000          0.160000  ...   \n",
       "17       0.037037            0.296296    0.185185          0.185185  ...   \n",
       "22       0.000000            1.000000    0.000000          0.000000  ...   \n",
       "23       0.000000            0.000000    0.000000          0.000000  ...   \n",
       "\n",
       "      gateau chocolat   pandoro  cheese cake  lemon ade  orange pound  \\\n",
       "hour                                                                    \n",
       "11           0.079320  0.199717     0.033994   0.011331      0.223796   \n",
       "12           0.072464  0.170290     0.038043   0.016304      0.221014   \n",
       "13           0.069507  0.159193     0.035874   0.017937      0.215247   \n",
       "14           0.096210  0.142857     0.037901   0.017493      0.259475   \n",
       "15           0.118721  0.114155     0.027397   0.018265      0.237443   \n",
       "16           0.144000  0.096000     0.072000   0.016000      0.312000   \n",
       "17           0.222222  0.074074     0.111111   0.037037      0.333333   \n",
       "22           0.000000  0.000000     0.000000   0.000000      1.000000   \n",
       "23           0.000000  0.000000     0.000000   0.000000      0.000000   \n",
       "\n",
       "        wiener  vanila latte  berry ade  tiramisu  merinque cookies  \n",
       "hour                                                                 \n",
       "11    0.267705      0.076487   0.014164  0.002833          0.019830  \n",
       "12    0.173913      0.103261   0.023551  0.005435          0.012681  \n",
       "13    0.170404      0.091928   0.026906  0.002242          0.013453  \n",
       "14    0.139942      0.122449   0.037901  0.002915          0.023324  \n",
       "15    0.196347      0.127854   0.013699  0.000000          0.036530  \n",
       "16    0.128000      0.136000   0.032000  0.000000          0.048000  \n",
       "17    0.296296      0.074074   0.000000  0.000000          0.000000  \n",
       "22    0.000000      0.000000   0.000000  0.000000          0.000000  \n",
       "23    0.000000      0.000000   0.000000  0.000000          0.000000  \n",
       "\n",
       "[9 rows x 24 columns]"
      ]
     },
     "execution_count": 84,
     "metadata": {},
     "output_type": "execute_result"
    }
   ],
   "source": [
    "df.groupby('hour').mean()"
   ]
  },
  {
   "cell_type": "code",
   "execution_count": 85,
   "id": "09e1aba4",
   "metadata": {},
   "outputs": [
    {
     "data": {
      "text/plain": [
       "array(['15', '16', '11', '13', '14', '12', '17', '23', '22'], dtype=object)"
      ]
     },
     "execution_count": 85,
     "metadata": {},
     "output_type": "execute_result"
    }
   ],
   "source": [
    "df['hour'].unique()"
   ]
  },
  {
   "cell_type": "code",
   "execution_count": 88,
   "id": "5fbcf039",
   "metadata": {},
   "outputs": [
    {
     "data": {
      "image/png": "[encoded data removed]",
      "text/plain": [
       "<Figure size 1800x900 with 1 Axes>"
      ]
     },
     "metadata": {
      "needs_background": "light"
     },
     "output_type": "display_data"
    }
   ],
   "source": [
    "plt.figure(figsize=(12,6),dpi=150)\n",
    "sns.histplot(x='hour',data=df)\n",
    "plt.savefig('hours.png')"
   ]
  },
  {
   "cell_type": "code",
   "execution_count": 101,
   "id": "817407cd",
   "metadata": {},
   "outputs": [
    {
     "data": {
      "text/plain": [
       "<AxesSubplot:xlabel='day of week', ylabel='Count'>"
      ]
     },
     "execution_count": 101,
     "metadata": {},
     "output_type": "execute_result"
    },
    {
     "data": {
      "image/png": "[encoded data removed]",
      "text/plain": [
       "<Figure size 864x432 with 1 Axes>"
      ]
     },
     "metadata": {
      "needs_background": "light"
     },
     "output_type": "display_data"
    }
   ],
   "source": [
    "plt.figure(figsize=(12,6))\n",
    "sns.histplot(x='day of week',data=df)\n",
    "#Sales on tuesday is an outlier here"
   ]
  },
  {
   "cell_type": "markdown",
   "id": "70e60972",
   "metadata": {},
   "source": [
    "## OUTLIER ELIMINATION"
   ]
  },
  {
   "cell_type": "code",
   "execution_count": 99,
   "id": "4a5c6009",
   "metadata": {},
   "outputs": [],
   "source": [
    "# 1721 th row has 22 hours\n",
    "# 837 th row has 23 hours\n",
    "df = df.drop([1721,837])"
   ]
  },
  {
   "cell_type": "code",
   "execution_count": 103,
   "id": "38ead85c",
   "metadata": {},
   "outputs": [],
   "source": [
    "# 1277, 1278 and 1279 rows have Tuesday as their day of week\n",
    "df = df.drop([1277,1278,1279])"
   ]
  },
  {
   "cell_type": "markdown",
   "id": "da066539",
   "metadata": {},
   "source": [
    "## TESTING VARIOUS MODELS"
   ]
  },
  {
   "cell_type": "code",
   "execution_count": 129,
   "id": "61921b49",
   "metadata": {},
   "outputs": [],
   "source": [
    "from sklearn.preprocessing import StandardScaler\n",
    "from sklearn.linear_model import LinearRegression\n",
    "from sklearn.svm import SVR\n",
    "from sklearn.tree import DecisionTreeRegressor\n",
    "from sklearn.ensemble import RandomForestRegressor\n",
    "from sklearn.neighbors import KNeighborsRegressor\n",
    "from sklearn.model_selection import train_test_split"
   ]
  },
  {
   "cell_type": "code",
   "execution_count": 137,
   "id": "2670532e",
   "metadata": {},
   "outputs": [],
   "source": [
    "from sklearn.metrics import mean_absolute_error"
   ]
  },
  {
   "cell_type": "code",
   "execution_count": 111,
   "id": "c047a8d3",
   "metadata": {},
   "outputs": [],
   "source": [
    "X = df.drop('total',axis=1)\n",
    "y = df['total']"
   ]
  },
  {
   "cell_type": "code",
   "execution_count": 112,
   "id": "dfaa96c4",
   "metadata": {},
   "outputs": [],
   "source": [
    "X_train,X_test,y_train,y_test = train_test_split(X,y,test_size=0.3,random_state=101)"
   ]
  },
  {
   "cell_type": "markdown",
   "id": "17f2ba62",
   "metadata": {},
   "source": [
    "## Model fitting and evaluation"
   ]
  },
  {
   "cell_type": "code",
   "execution_count": 152,
   "id": "21069684",
   "metadata": {},
   "outputs": [],
   "source": [
    "def run_model(model):\n",
    "    model.fit(X_train,y_train)\n",
    "    pred = model.predict(X_test)\n",
    "    print('MAE: ',mean_absolute_error(y_test,pred))\n",
    "    print('% of max: ',(mean_absolute_error(y_test,pred)/df['total'].max())*100)"
   ]
  },
  {
   "cell_type": "code",
   "execution_count": 153,
   "id": "10d9e754",
   "metadata": {},
   "outputs": [
    {
     "name": "stdout",
     "output_type": "stream",
     "text": [
      "MAE:  2138.2476827257647\n",
      "% of max:  0.16537105048149767\n"
     ]
    }
   ],
   "source": [
    "run_model(LinearRegression())"
   ]
  },
  {
   "cell_type": "code",
   "execution_count": 154,
   "id": "c5156d3e",
   "metadata": {},
   "outputs": [
    {
     "name": "stdout",
     "output_type": "stream",
     "text": [
      "MAE:  5339.862068965517\n",
      "% of max:  0.4129823719230871\n"
     ]
    }
   ],
   "source": [
    "run_model(DecisionTreeRegressor())"
   ]
  },
  {
   "cell_type": "code",
   "execution_count": 155,
   "id": "7faf7dff",
   "metadata": {},
   "outputs": [
    {
     "name": "stdout",
     "output_type": "stream",
     "text": [
      "MAE:  6491.305915313065\n",
      "% of max:  0.5020344868764938\n"
     ]
    }
   ],
   "source": [
    "run_model(SVR())"
   ]
  },
  {
   "cell_type": "code",
   "execution_count": 156,
   "id": "9620c6a4",
   "metadata": {},
   "outputs": [
    {
     "name": "stdout",
     "output_type": "stream",
     "text": [
      "MAE:  4188.916091954023\n",
      "% of max:  0.32396876194540003\n"
     ]
    }
   ],
   "source": [
    "run_model(RandomForestRegressor())"
   ]
  },
  {
   "cell_type": "code",
   "execution_count": 157,
   "id": "50368b83",
   "metadata": {},
   "outputs": [
    {
     "name": "stdout",
     "output_type": "stream",
     "text": [
      "MAE:  5631.724137931034\n",
      "% of max:  0.435554844387551\n"
     ]
    }
   ],
   "source": [
    "run_model(KNeighborsRegressor())"
   ]
  },
  {
   "cell_type": "code",
   "execution_count": 158,
   "id": "039e0f89",
   "metadata": {},
   "outputs": [
    {
     "data": {
      "text/plain": [
       "1293000.0"
      ]
     },
     "execution_count": 158,
     "metadata": {},
     "output_type": "execute_result"
    }
   ],
   "source": [
    "df['total'].max()"
   ]
  },
  {
   "cell_type": "markdown",
   "id": "7b58fe52",
   "metadata": {},
   "source": [
    "Feature Importance"
   ]
  },
  {
   "cell_type": "code",
   "execution_count": 167,
   "id": "a14aa988",
   "metadata": {},
   "outputs": [
    {
     "data": {
      "text/html": [
       "<div>\n",
       "<style scoped>\n",
       "    .dataframe tbody tr th:only-of-type {\n",
       "        vertical-align: middle;\n",
       "    }\n",
       "\n",
       "    .dataframe tbody tr th {\n",
       "        vertical-align: top;\n",
       "    }\n",
       "\n",
       "    .dataframe thead th {\n",
       "        text-align: right;\n",
       "    }\n",
       "</style>\n",
       "<table border=\"1\" class=\"dataframe\">\n",
       "  <thead>\n",
       "    <tr style=\"text-align: right;\">\n",
       "      <th></th>\n",
       "      <th>Feature Importance</th>\n",
       "    </tr>\n",
       "  </thead>\n",
       "  <tbody>\n",
       "    <tr>\n",
       "      <th>cheese cake</th>\n",
       "      <td>4.949088e+03</td>\n",
       "    </tr>\n",
       "    <tr>\n",
       "      <th>berry ade</th>\n",
       "      <td>4.946709e+03</td>\n",
       "    </tr>\n",
       "    <tr>\n",
       "      <th>angbutter</th>\n",
       "      <td>4.749508e+03</td>\n",
       "    </tr>\n",
       "    <tr>\n",
       "      <th>milk tea</th>\n",
       "      <td>4.666063e+03</td>\n",
       "    </tr>\n",
       "    <tr>\n",
       "      <th>lemon ade</th>\n",
       "      <td>4.637770e+03</td>\n",
       "    </tr>\n",
       "    <tr>\n",
       "      <th>vanila latte</th>\n",
       "      <td>4.580020e+03</td>\n",
       "    </tr>\n",
       "    <tr>\n",
       "      <th>almond croissant</th>\n",
       "      <td>4.529114e+03</td>\n",
       "    </tr>\n",
       "    <tr>\n",
       "      <th>caffe latte</th>\n",
       "      <td>4.485865e+03</td>\n",
       "    </tr>\n",
       "    <tr>\n",
       "      <th>pandoro</th>\n",
       "      <td>4.418573e+03</td>\n",
       "    </tr>\n",
       "    <tr>\n",
       "      <th>orange pound</th>\n",
       "      <td>4.416627e+03</td>\n",
       "    </tr>\n",
       "    <tr>\n",
       "      <th>tiramisu croissant</th>\n",
       "      <td>4.389343e+03</td>\n",
       "    </tr>\n",
       "    <tr>\n",
       "      <th>tiramisu</th>\n",
       "      <td>4.388964e+03</td>\n",
       "    </tr>\n",
       "    <tr>\n",
       "      <th>merinque cookies</th>\n",
       "      <td>4.123196e+03</td>\n",
       "    </tr>\n",
       "    <tr>\n",
       "      <th>americano</th>\n",
       "      <td>4.024350e+03</td>\n",
       "    </tr>\n",
       "    <tr>\n",
       "      <th>cacao deep</th>\n",
       "      <td>3.961474e+03</td>\n",
       "    </tr>\n",
       "    <tr>\n",
       "      <th>gateau chocolat</th>\n",
       "      <td>3.820825e+03</td>\n",
       "    </tr>\n",
       "    <tr>\n",
       "      <th>pain au chocolat</th>\n",
       "      <td>3.608323e+03</td>\n",
       "    </tr>\n",
       "    <tr>\n",
       "      <th>plain bread</th>\n",
       "      <td>3.497502e+03</td>\n",
       "    </tr>\n",
       "    <tr>\n",
       "      <th>croissant</th>\n",
       "      <td>3.465434e+03</td>\n",
       "    </tr>\n",
       "    <tr>\n",
       "      <th>wiener</th>\n",
       "      <td>2.462738e+03</td>\n",
       "    </tr>\n",
       "    <tr>\n",
       "      <th>jam</th>\n",
       "      <td>1.528994e+03</td>\n",
       "    </tr>\n",
       "    <tr>\n",
       "      <th>year</th>\n",
       "      <td>4.330974e+02</td>\n",
       "    </tr>\n",
       "    <tr>\n",
       "      <th>month</th>\n",
       "      <td>3.347498e+01</td>\n",
       "    </tr>\n",
       "    <tr>\n",
       "      <th>hour</th>\n",
       "      <td>8.267833e+00</td>\n",
       "    </tr>\n",
       "    <tr>\n",
       "      <th>croque monsieur</th>\n",
       "      <td>-1.818989e-12</td>\n",
       "    </tr>\n",
       "    <tr>\n",
       "      <th>mad garlic</th>\n",
       "      <td>-7.048584e-12</td>\n",
       "    </tr>\n",
       "    <tr>\n",
       "      <th>day</th>\n",
       "      <td>-8.918469e+00</td>\n",
       "    </tr>\n",
       "  </tbody>\n",
       "</table>\n",
       "</div>"
      ],
      "text/plain": [
       "                    Feature Importance\n",
       "cheese cake               4.949088e+03\n",
       "berry ade                 4.946709e+03\n",
       "angbutter                 4.749508e+03\n",
       "milk tea                  4.666063e+03\n",
       "lemon ade                 4.637770e+03\n",
       "vanila latte              4.580020e+03\n",
       "almond croissant          4.529114e+03\n",
       "caffe latte               4.485865e+03\n",
       "pandoro                   4.418573e+03\n",
       "orange pound              4.416627e+03\n",
       "tiramisu croissant        4.389343e+03\n",
       "tiramisu                  4.388964e+03\n",
       "merinque cookies          4.123196e+03\n",
       "americano                 4.024350e+03\n",
       "cacao deep                3.961474e+03\n",
       "gateau chocolat           3.820825e+03\n",
       "pain au chocolat          3.608323e+03\n",
       "plain bread               3.497502e+03\n",
       "croissant                 3.465434e+03\n",
       "wiener                    2.462738e+03\n",
       "jam                       1.528994e+03\n",
       "year                      4.330974e+02\n",
       "month                     3.347498e+01\n",
       "hour                      8.267833e+00\n",
       "croque monsieur          -1.818989e-12\n",
       "mad garlic               -7.048584e-12\n",
       "day                      -8.918469e+00"
      ]
     },
     "execution_count": 167,
     "metadata": {},
     "output_type": "execute_result"
    }
   ],
   "source": [
    "lr = LinearRegression()\n",
    "lr.fit(X_train,y_train)\n",
    "pd.DataFrame(data=lr.coef_,index=X.columns,columns=['Feature Importance']).sort_values('Feature Importance',ascending=False)"
   ]
  },
  {
   "cell_type": "code",
   "execution_count": null,
   "id": "2664a002",
   "metadata": {},
   "outputs": [],
   "source": []
  }
 ],
 "metadata": {
  "kernelspec": {
   "display_name": "Python 3",
   "language": "python",
   "name": "python3"
  },
  "language_info": {
   "codemirror_mode": {
    "name": "ipython",
    "version": 3
   },
   "file_extension": ".py",
   "mimetype": "text/x-python",
   "name": "python",
   "nbconvert_exporter": "python",
   "pygments_lexer": "ipython3",
   "version": "3.8.8"
  }
 },
 "nbformat": 4,
 "nbformat_minor": 5
}
